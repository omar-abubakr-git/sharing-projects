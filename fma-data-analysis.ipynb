{
 "cells": [
  {
   "cell_type": "code",
   "execution_count": 3,
   "metadata": {},
   "outputs": [],
   "source": [
    "# modules for research report\n",
    "from datascience import *\n",
    "import numpy as np\n",
    "import random\n",
    "%matplotlib inline\n",
    "import matplotlib.pyplot as plots\n",
    "plots.style.use('fivethirtyeight')\n",
    "\n",
    "# module for YouTube video\n",
    "from IPython.display import YouTubeVideo"
   ]
  },
  {
   "cell_type": "markdown",
   "metadata": {},
   "source": [
    "# Free Music Archive: A Dataset For Music Analysis"
   ]
  },
  {
   "cell_type": "markdown",
   "metadata": {},
   "source": [
    "This dataset was introduced by Michaël Defferrard, Kirell Benzi, Pierre Vandergheynst, and Xavier Bresson at the International Society for Music Information Retrieval (MIR) Conference in 2017.\n",
    "It has been cleaned for your convenience: all missing values have been removed, and low-quality observations and variables have been filtered out. A brief summary of the dataset, originally\n",
    "given at the conference, is provided below. "
   ]
  },
  {
   "cell_type": "markdown",
   "metadata": {},
   "source": [
    "## Summary\n",
    "\n",
    ">We introduce the Free Music Archive (FMA), an open and easily accessible dataset suitable for evaluating several tasks in MIR, a field concerned with browsing, searching, and\n",
    "organizing large music collections. The community's growing interest in feature and end-to-end learning is however restrained by the limited availability of large audio datasets.\n",
    "The FMA aims to overcome this hurdle by providing 917 GiB and 343 days of Creative Commons-licensed audio from 106,574 tracks from 16,341 artists and 14,854 albums, arranged in a\n",
    "hierarchical taxonomy of 161 genres. It provides full-length and high-quality audio, pre-computed features, together with track- and user-level metadata, tags, and free-form text\n",
    "such as biographies."
   ]
  },
  {
   "cell_type": "markdown",
   "metadata": {},
   "source": [
    "## Data Description\n",
    "\n",
    "This dataset consists of three tables stored in the `data` folder:\n",
    "1. `tracks` provides information on individual tracks.\n",
    "2. `genres` contains information on all of the genres.\n",
    "3. `features` contains information on the Spotify audio features of each track.\n",
    "\n",
    "A description of each table's variables is provided below:\n",
    "\n",
    "`tracks`:\n",
    "* `track_id`: a unique ID for each track\n",
    "* `track_title`: title of each track\n",
    "* `artist_name`: name of the artist\n",
    "* `album_title`: title of the album that the track comes from\n",
    "* `track_duration`: the length of the song in seconds\n",
    "* `track_genre`: the genre(s) that the track fall(s) into\n",
    "* `album_date_released`: a string indicating the album release date\n",
    "* `album_type`: specifies whether the album is studio-recorded, live, or from a radio program\n",
    "* `album_tracks`: number of tracks on the album\n",
    "\n",
    "`genres`:\n",
    "* `genre_id`: a unique ID for each genre\n",
    "* `title`: the name of the genre\n",
    "* `# tracks`: the number of tracks that fall into this genre\n",
    "* `parent`: the genre that this subgenre falls under (will be 0 if not a subgenre)\n",
    "\n",
    "`features` (descriptions from the [Spotify API page](https://developer.spotify.com/documentation/web-api/reference/tracks/get-audio-features/)):\n",
    "* `track_id`: a unique ID for each track\n",
    "* `acousticness`: A confidence measure from 0.0 to 1.0 of whether the track is acoustic. 1.0 represents high confidence the track is acoustic.\n",
    "* `danceability`: Danceability describes how suitable a track is for dancing based on a combination of musical elements including tempo, rhythm stability, beat strength, and overall regularity. A value of 0.0 is least danceable and 1.0 is most danceable.\n",
    "* `energy`: Energy is a measure from 0.0 to 1.0 and represents a perceptual measure of intensity and activity. Typically, energetic tracks feel fast, loud, and noisy. For example, death metal has high energy, while a Bach prelude scores low on the scale.\n",
    "* `instrumentalness`: Predicts whether a track contains no vocals. “Ooh” and “aah” sounds are treated as instrumental in this context. Rap or spoken word tracks are clearly “vocal”. The closer the instrumentalness value is to 1.0, the greater likelihood the track contains no vocal content. \n",
    "* `liveness\t`: Detects the presence of an audience in the recording. Higher liveness values represent an increased probability that the track was performed live.\n",
    "* `speechiness`: Speechiness detects the presence of spoken words in a track. The more exclusively speech-like the recording (e.g. talk show, audio book, poetry), the closer to 1.0 the attribute value. \n",
    "* `tempo`: The overall estimated tempo of a track in beats per minute (BPM). In musical terminology, tempo is the speed or pace of a given piece and derives directly from the average beat duration. \n",
    "* `valence`: \tA measure from 0.0 to 1.0 describing the musical positiveness conveyed by a track. Tracks with high valence sound more positive (e.g. happy, cheerful, euphoric), while tracks with low valence sound more negative (e.g. sad, depressed, angry)."
   ]
  },
  {
   "cell_type": "markdown",
   "metadata": {},
   "source": [
    "## Preview\n",
    "\n",
    "The tables are loaded in the code cells below. Take some time to explore them!"
   ]
  },
  {
   "cell_type": "code",
   "execution_count": 134,
   "metadata": {},
   "outputs": [
    {
     "data": {
      "text/html": [
       "<table border=\"1\" class=\"dataframe\">\n",
       "    <thead>\n",
       "        <tr>\n",
       "            <th>track_id</th> <th>track_title</th> <th>artist_name</th> <th>album_title</th> <th>track_duration</th> <th>track_genre</th> <th>album_date_released</th> <th>album_type</th> <th>album_tracks</th>\n",
       "        </tr>\n",
       "    </thead>\n",
       "    <tbody>\n",
       "        <tr>\n",
       "            <td>145     </td> <td>Amoebiasis              </td> <td>Amoebic Ensemble</td> <td>Amoebiasis                     </td> <td>326           </td> <td>Jazz       </td> <td>2009-01-06         </td> <td>Album        </td> <td>0           </td>\n",
       "        </tr>\n",
       "        <tr>\n",
       "            <td>155     </td> <td>Maps of the Stars Homes </td> <td>Arc and Sender  </td> <td>unreleased demo                </td> <td>756           </td> <td>Rock       </td> <td>2009-01-06         </td> <td>Single Tracks</td> <td>1           </td>\n",
       "        </tr>\n",
       "        <tr>\n",
       "            <td>201     </td> <td>Big City                </td> <td>Ed Askew        </td> <td>What I Know                    </td> <td>210           </td> <td>Folk       </td> <td>2009-01-07         </td> <td>Album        </td> <td>10          </td>\n",
       "        </tr>\n",
       "        <tr>\n",
       "            <td>307     </td> <td>Out on the farm         </td> <td>Blah Blah Blah  </td> <td>Green Collection               </td> <td>205           </td> <td>Rock       </td> <td>2007-09-01         </td> <td>Album        </td> <td>0           </td>\n",
       "        </tr>\n",
       "        <tr>\n",
       "            <td>309     </td> <td>Where are all the people</td> <td>Blah Blah Blah  </td> <td>Green Collection               </td> <td>229           </td> <td>Rock       </td> <td>2007-09-01         </td> <td>Album        </td> <td>0           </td>\n",
       "        </tr>\n",
       "        <tr>\n",
       "            <td>319     </td> <td>Complete Shakespeare    </td> <td>Blah Blah Blah  </td> <td>Green Collection               </td> <td>156           </td> <td>Rock       </td> <td>2007-09-01         </td> <td>Album        </td> <td>0           </td>\n",
       "        </tr>\n",
       "        <tr>\n",
       "            <td>327     </td> <td>Hands Beckoning         </td> <td>Blah Blah Blah  </td> <td>Stripey Collection             </td> <td>259           </td> <td>Rock       </td> <td>1982-04-06         </td> <td>Album        </td> <td>0           </td>\n",
       "        </tr>\n",
       "        <tr>\n",
       "            <td>328     </td> <td>Central Park            </td> <td>Blah Blah Blah  </td> <td>Stripey Collection             </td> <td>236           </td> <td>Rock       </td> <td>1982-04-06         </td> <td>Album        </td> <td>0           </td>\n",
       "        </tr>\n",
       "        <tr>\n",
       "            <td>350     </td> <td>Gotta Go                </td> <td>Blah Blah Blah  </td> <td>30th Anniversary Blah Blah Blah</td> <td>101           </td> <td>Rock       </td> <td>2009-01-01         </td> <td>Album        </td> <td>21          </td>\n",
       "        </tr>\n",
       "        <tr>\n",
       "            <td>364     </td> <td>Sunspot activity        </td> <td>Blah Blah Blah  </td> <td>30th Anniversary Blah Blah Blah</td> <td>152           </td> <td>Rock       </td> <td>2009-01-01         </td> <td>Album        </td> <td>21          </td>\n",
       "        </tr>\n",
       "    </tbody>\n",
       "</table>\n",
       "<p>... (449 rows omitted)</p>"
      ],
      "text/plain": [
       "track_id | track_title              | artist_name      | album_title                     | track_duration | track_genre | album_date_released | album_type    | album_tracks\n",
       "145      | Amoebiasis               | Amoebic Ensemble | Amoebiasis                      | 326            | Jazz        | 2009-01-06          | Album         | 0\n",
       "155      | Maps of the Stars Homes  | Arc and Sender   | unreleased demo                 | 756            | Rock        | 2009-01-06          | Single Tracks | 1\n",
       "201      | Big City                 | Ed Askew         | What I Know                     | 210            | Folk        | 2009-01-07          | Album         | 10\n",
       "307      | Out on the farm          | Blah Blah Blah   | Green Collection                | 205            | Rock        | 2007-09-01          | Album         | 0\n",
       "309      | Where are all the people | Blah Blah Blah   | Green Collection                | 229            | Rock        | 2007-09-01          | Album         | 0\n",
       "319      | Complete Shakespeare     | Blah Blah Blah   | Green Collection                | 156            | Rock        | 2007-09-01          | Album         | 0\n",
       "327      | Hands Beckoning          | Blah Blah Blah   | Stripey Collection              | 259            | Rock        | 1982-04-06          | Album         | 0\n",
       "328      | Central Park             | Blah Blah Blah   | Stripey Collection              | 236            | Rock        | 1982-04-06          | Album         | 0\n",
       "350      | Gotta Go                 | Blah Blah Blah   | 30th Anniversary Blah Blah Blah | 101            | Rock        | 2009-01-01          | Album         | 21\n",
       "364      | Sunspot activity         | Blah Blah Blah   | 30th Anniversary Blah Blah Blah | 152            | Rock        | 2009-01-01          | Album         | 21\n",
       "... (449 rows omitted)"
      ]
     },
     "execution_count": 134,
     "metadata": {},
     "output_type": "execute_result"
    }
   ],
   "source": [
    "#load tracks\n",
    "tracks = Table().read_table(\"data/tracks_final.csv\")\n",
    "tracks"
   ]
  },
  {
   "cell_type": "code",
   "execution_count": 132,
   "metadata": {},
   "outputs": [
    {
     "data": {
      "text/html": [
       "<table border=\"1\" class=\"dataframe\">\n",
       "    <thead>\n",
       "        <tr>\n",
       "            <th>genre_id</th> <th>title</th> <th>#tracks</th> <th>parent</th>\n",
       "        </tr>\n",
       "    </thead>\n",
       "    <tbody>\n",
       "        <tr>\n",
       "            <td>1       </td> <td>Avant-Garde        </td> <td>8693   </td> <td>38    </td>\n",
       "        </tr>\n",
       "        <tr>\n",
       "            <td>2       </td> <td>International      </td> <td>5271   </td> <td>0     </td>\n",
       "        </tr>\n",
       "        <tr>\n",
       "            <td>3       </td> <td>Blues              </td> <td>1752   </td> <td>0     </td>\n",
       "        </tr>\n",
       "        <tr>\n",
       "            <td>4       </td> <td>Jazz               </td> <td>4126   </td> <td>0     </td>\n",
       "        </tr>\n",
       "        <tr>\n",
       "            <td>5       </td> <td>Classical          </td> <td>4106   </td> <td>0     </td>\n",
       "        </tr>\n",
       "        <tr>\n",
       "            <td>6       </td> <td>Novelty            </td> <td>914    </td> <td>38    </td>\n",
       "        </tr>\n",
       "        <tr>\n",
       "            <td>7       </td> <td>Comedy             </td> <td>217    </td> <td>20    </td>\n",
       "        </tr>\n",
       "        <tr>\n",
       "            <td>8       </td> <td>Old-Time / Historic</td> <td>868    </td> <td>0     </td>\n",
       "        </tr>\n",
       "        <tr>\n",
       "            <td>9       </td> <td>Country            </td> <td>1987   </td> <td>0     </td>\n",
       "        </tr>\n",
       "        <tr>\n",
       "            <td>10      </td> <td>Pop                </td> <td>13845  </td> <td>0     </td>\n",
       "        </tr>\n",
       "    </tbody>\n",
       "</table>\n",
       "<p>... (153 rows omitted)</p>"
      ],
      "text/plain": [
       "genre_id | title               | #tracks | parent\n",
       "1        | Avant-Garde         | 8693    | 38\n",
       "2        | International       | 5271    | 0\n",
       "3        | Blues               | 1752    | 0\n",
       "4        | Jazz                | 4126    | 0\n",
       "5        | Classical           | 4106    | 0\n",
       "6        | Novelty             | 914     | 38\n",
       "7        | Comedy              | 217     | 20\n",
       "8        | Old-Time / Historic | 868     | 0\n",
       "9        | Country             | 1987    | 0\n",
       "10       | Pop                 | 13845   | 0\n",
       "... (153 rows omitted)"
      ]
     },
     "execution_count": 132,
     "metadata": {},
     "output_type": "execute_result"
    }
   ],
   "source": [
    "#load genres\n",
    "genres = Table().read_table(\"data/genres_final.csv\")\n",
    "genres"
   ]
  },
  {
   "cell_type": "code",
   "execution_count": 133,
   "metadata": {},
   "outputs": [
    {
     "data": {
      "text/html": [
       "<table border=\"1\" class=\"dataframe\">\n",
       "    <thead>\n",
       "        <tr>\n",
       "            <th>track_id</th> <th>acousticness</th> <th>danceability</th> <th>energy</th> <th>instrumentalness</th> <th>liveness</th> <th>speechiness</th> <th>tempo</th> <th>valence</th>\n",
       "        </tr>\n",
       "    </thead>\n",
       "    <tbody>\n",
       "        <tr>\n",
       "            <td>145     </td> <td>0.235506    </td> <td>0.438672    </td> <td>0.487752 </td> <td>0.716122        </td> <td>0.0703593</td> <td>0.0472978  </td> <td>120.79 </td> <td>0.650452 </td>\n",
       "        </tr>\n",
       "        <tr>\n",
       "            <td>155     </td> <td>0.981657    </td> <td>0.142249    </td> <td>0.912122 </td> <td>0.967294        </td> <td>0.36351  </td> <td>0.087527   </td> <td>91.912 </td> <td>0.0343253</td>\n",
       "        </tr>\n",
       "        <tr>\n",
       "            <td>201     </td> <td>0.991813    </td> <td>0.461855    </td> <td>0.543751 </td> <td>0.964922        </td> <td>0.137006 </td> <td>0.0256877  </td> <td>93.945 </td> <td>0.758632 </td>\n",
       "        </tr>\n",
       "        <tr>\n",
       "            <td>307     </td> <td>0.77377     </td> <td>0.552026    </td> <td>0.251328 </td> <td>0.568976        </td> <td>0.110743 </td> <td>0.0506326  </td> <td>117.247</td> <td>0.356984 </td>\n",
       "        </tr>\n",
       "        <tr>\n",
       "            <td>309     </td> <td>0.335481    </td> <td>0.390263    </td> <td>0.0210674</td> <td>0.937508        </td> <td>0.0890457</td> <td>0.0414906  </td> <td>60.382 </td> <td>0.0399321</td>\n",
       "        </tr>\n",
       "        <tr>\n",
       "            <td>319     </td> <td>0.890498    </td> <td>0.316413    </td> <td>0.0596131</td> <td>0.913303        </td> <td>0.108808 </td> <td>0.0387785  </td> <td>133.934</td> <td>0.122417 </td>\n",
       "        </tr>\n",
       "        <tr>\n",
       "            <td>327     </td> <td>0.928171    </td> <td>0.553091    </td> <td>0.303937 </td> <td>0.95423         </td> <td>0.110752 </td> <td>0.107401   </td> <td>110.039</td> <td>0.616368 </td>\n",
       "        </tr>\n",
       "        <tr>\n",
       "            <td>328     </td> <td>0.297541    </td> <td>0.624953    </td> <td>0.176884 </td> <td>0.815871        </td> <td>0.0928226</td> <td>0.0551486  </td> <td>114.858</td> <td>0.503635 </td>\n",
       "        </tr>\n",
       "        <tr>\n",
       "            <td>350     </td> <td>0.989664    </td> <td>0.463938    </td> <td>0.363612 </td> <td>0.919011        </td> <td>0.11874  </td> <td>0.0376218  </td> <td>99.384 </td> <td>0.591003 </td>\n",
       "        </tr>\n",
       "        <tr>\n",
       "            <td>364     </td> <td>0.98638     </td> <td>0.61286     </td> <td>0.15611  </td> <td>0.104549        </td> <td>0.107289 </td> <td>0.198543   </td> <td>109.256</td> <td>0.483544 </td>\n",
       "        </tr>\n",
       "    </tbody>\n",
       "</table>\n",
       "<p>... (449 rows omitted)</p>"
      ],
      "text/plain": [
       "track_id | acousticness | danceability | energy    | instrumentalness | liveness  | speechiness | tempo   | valence\n",
       "145      | 0.235506     | 0.438672     | 0.487752  | 0.716122         | 0.0703593 | 0.0472978   | 120.79  | 0.650452\n",
       "155      | 0.981657     | 0.142249     | 0.912122  | 0.967294         | 0.36351   | 0.087527    | 91.912  | 0.0343253\n",
       "201      | 0.991813     | 0.461855     | 0.543751  | 0.964922         | 0.137006  | 0.0256877   | 93.945  | 0.758632\n",
       "307      | 0.77377      | 0.552026     | 0.251328  | 0.568976         | 0.110743  | 0.0506326   | 117.247 | 0.356984\n",
       "309      | 0.335481     | 0.390263     | 0.0210674 | 0.937508         | 0.0890457 | 0.0414906   | 60.382  | 0.0399321\n",
       "319      | 0.890498     | 0.316413     | 0.0596131 | 0.913303         | 0.108808  | 0.0387785   | 133.934 | 0.122417\n",
       "327      | 0.928171     | 0.553091     | 0.303937  | 0.95423          | 0.110752  | 0.107401    | 110.039 | 0.616368\n",
       "328      | 0.297541     | 0.624953     | 0.176884  | 0.815871         | 0.0928226 | 0.0551486   | 114.858 | 0.503635\n",
       "350      | 0.989664     | 0.463938     | 0.363612  | 0.919011         | 0.11874   | 0.0376218   | 99.384  | 0.591003\n",
       "364      | 0.98638      | 0.61286      | 0.15611   | 0.104549         | 0.107289  | 0.198543    | 109.256 | 0.483544\n",
       "... (449 rows omitted)"
      ]
     },
     "execution_count": 133,
     "metadata": {},
     "output_type": "execute_result"
    }
   ],
   "source": [
    "#load features\n",
    "features = Table().read_table(\"data/features_final.csv\")\n",
    "features"
   ]
  },
  {
   "cell_type": "markdown",
   "metadata": {},
   "source": [
    "<br>\n",
    "\n",
    "# Research Report"
   ]
  },
  {
   "cell_type": "markdown",
   "metadata": {},
   "source": [
    "## Introduction\n",
    "\n",
    "For this project we have decided to analyze a small random sample from the Free Music Archive (FMA), a dataset introduced in 2017 at the International Society for Music Information Retrieval (MIR) Conference. The dataset is divided into `tracks`, `genres`, and `features`.\n",
    "\n",
    "The `tracks` table provides the `track_id` and `track_title` to identify every track in the sample. `tracks` mainly serves to identify all the specific elements of each individual track such as genre, length, release date, or the album it was released on.\n",
    "\n",
    "The `genres` table provides the name of every possible genre in the entire dataset and identifies that genre by `genre_id` and provides us with the number of tracks in the dataset that fall under each genre and the genre id for the parent genre of that subgenre. \n",
    "\n",
    "The`features` table contains each track in the sample and so it has the same number of rows as the `tracks` table. `features` defines eight possible features any song can have and assigns to each song a value for every one of the eight features to quantify the presence of that feature in the song. For example, one of the eight features is `valence` which is a measure from 0 to 1 describing the musical positiveness conveyed in the track. Higher values of valence means a track sounds more positive (e.g. happy, exciting, etc.) and lower values of valence means a track sounds more negative (e.g. sad, depressing, etc.). Each track is given a certain value for valence depending on how ‘happy’ or ‘sad’ it sounds. The same goes for the other features for all tracks. \n",
    "\n",
    "The `genres` table will not be used for this analysis as all we need to know about genres is the genre of each track, and thankfully that information is included in the `track_genre` column of the `tracks` table. We will mainly be analyzing the relationship between track features and track genre. For this analysis, we will start by focusing on the `danceability` feature in the “Folk” and “Hip-Hop” genres. We chose these two genres as they both have a similar number of tracks in the sample."
   ]
  },
  {
   "cell_type": "markdown",
   "metadata": {},
   "source": [
    "## Hypothesis Testing and Prediction Questions\n",
    "\n",
    "\n",
    "Having listened to some Hip-Hop songs, and some Folk songs, and combined the information in the dataset to examine the average danceabilities, we asked ourselves if people will notice or care if they are dancing to a hip-hop song, or a Folk song, as the values were not extremley different. This leads us to the hypothesis question: **Is the difference in danceability between Folk and Hip-Hop due to chance or does it show that one is generally more danceable than the other in the population?** There are two possible answers to this hypothesis question. One one hand, the null hypothesis will be: **in the population, the distribution of danceability of songs is the same for Hip-Hop tracks as well as Folk tracks. The difference in the sample is due to chance.** On the other hand, the alternative hypothesis is: **in the population, the average danceability of Hip-Hop tracks is higher than that of Folk tracks.** \n",
    "\n",
    "If there is a difference, this leads us to the question of whether we can actually predict what a song's genre will be based upon features such as danceability. The question would specifically be: **in general, are genres distinguishable by the features outlined in the data set, specifically the genres Folk and Hip-Hop?** We will use a k-nearest neighbors model to figure this out, and predict the categories."
   ]
  },
  {
   "cell_type": "markdown",
   "metadata": {},
   "source": [
    "## Exploratory Data Analysis\n",
    "\n",
    "**You may change the order of the plots and tables.**"
   ]
  },
  {
   "cell_type": "markdown",
   "metadata": {},
   "source": [
    "**Table Requiring a Join Operation:**"
   ]
  },
  {
   "cell_type": "code",
   "execution_count": 135,
   "metadata": {},
   "outputs": [
    {
     "data": {
      "text/html": [
       "<table border=\"1\" class=\"dataframe\">\n",
       "    <thead>\n",
       "        <tr>\n",
       "            <th>acousticness</th> <th>danceability</th> <th>energy</th> <th>instrumentalness</th> <th>liveness</th> <th>speechiness</th> <th>tempo</th> <th>valence</th> <th>track_duration</th> <th>track_genre</th>\n",
       "        </tr>\n",
       "    </thead>\n",
       "    <tbody>\n",
       "        <tr>\n",
       "            <td>0.991813    </td> <td>0.461855    </td> <td>0.543751  </td> <td>0.964922        </td> <td>0.137006 </td> <td>0.0256877  </td> <td>93.945 </td> <td>0.758632</td> <td>210           </td> <td>Folk       </td>\n",
       "        </tr>\n",
       "        <tr>\n",
       "            <td>0.995716    </td> <td>0.448509    </td> <td>0.148549  </td> <td>0.942322        </td> <td>0.116273 </td> <td>0.0465746  </td> <td>45.532 </td> <td>0.355909</td> <td>309           </td> <td>Folk       </td>\n",
       "        </tr>\n",
       "        <tr>\n",
       "            <td>0.311324    </td> <td>0.291688    </td> <td>0.810857  </td> <td>0.440107        </td> <td>0.362146 </td> <td>0.106019   </td> <td>166.2  </td> <td>0.548057</td> <td>104           </td> <td>Hip-Hop    </td>\n",
       "        </tr>\n",
       "        <tr>\n",
       "            <td>0.927184    </td> <td>0.50923     </td> <td>0.487058  </td> <td>0.800961        </td> <td>0.0958261</td> <td>0.0330235  </td> <td>111.08 </td> <td>0.542597</td> <td>163           </td> <td>Folk       </td>\n",
       "        </tr>\n",
       "        <tr>\n",
       "            <td>0.155801    </td> <td>0.157069    </td> <td>0.00395057</td> <td>0.836295        </td> <td>0.471216 </td> <td>0.785159   </td> <td>127.185</td> <td>1e-05   </td> <td>267           </td> <td>Folk       </td>\n",
       "        </tr>\n",
       "    </tbody>\n",
       "</table>\n",
       "<p>... (74 rows omitted)</p>"
      ],
      "text/plain": [
       "<IPython.core.display.HTML object>"
      ]
     },
     "metadata": {},
     "output_type": "display_data"
    }
   ],
   "source": [
    "# Use this cell to join two datasets\n",
    "all_features_table = features.join(\"track_id\",tracks,\"track_id\").drop(\"track_id\",\"track_title\",\"artist_name\",\"album_title\",\"album_type\",\"album_date_released\",\"album_tracks\").where(\"track_genre\",are.contained_in(make_array(\"Folk\",\"Hip-Hop\")))\n",
    "joined = all_features_table.select(\"track_genre\", \"danceability\")\n",
    "folk_hiphop = joined.where(\"track_genre\", are.contained_in(make_array(\"Folk\", \"Hip-Hop\")))\n",
    "all_features_table.show(5)"
   ]
  },
  {
   "cell_type": "markdown",
   "metadata": {},
   "source": [
    "*Since we are doing an analysis that relates the genre of a track to one of its features, we have joined the* `tracks` *and* `features` *tables together and selected the only values we need. We then eliminated all the genres except for Folk and Hip-Hop because these are the genres we have decided to focus on. Seperate tables were defined that contain only the feature `danceability` as that is the feature we decided to focus on. The table* `joined` *will be useful when it comes to conducting A/B testing later and the table* `folk_hiphop` *contains the genre and danceability of all the Folk and Hip-Hop tracks.* "
   ]
  },
  {
   "cell_type": "markdown",
   "metadata": {},
   "source": [
    "**Quantitative Plot:**"
   ]
  },
  {
   "cell_type": "code",
   "execution_count": 236,
   "metadata": {},
   "outputs": [
    {
     "data": {
      "text/plain": [
       "Text(0.5, 1.0, 'Distribution of danceability of tracks in each genre')"
      ]
     },
     "execution_count": 236,
     "metadata": {},
     "output_type": "execute_result"
    },
    {
     "data": {
      "image/png": "[encoded data removed]",
      "text/plain": [
       "<Figure size 432x288 with 1 Axes>"
      ]
     },
     "metadata": {},
     "output_type": "display_data"
    }
   ],
   "source": [
    "# Use this cell to generate your quantitative plot\n",
    "folk_hiphop.hist(1, group = \"track_genre\", bins = np.arange(0, 1.2, 0.1))\n",
    "plots.title(\"Distribution of danceability of tracks in each genre\")"
   ]
  },
  {
   "cell_type": "markdown",
   "metadata": {},
   "source": [
    "*These two histograms help us visualize the distribution of danceability in tracks across the tracks in each genre that we are looking at in the sample. The distribution of danceability for Hip-Hop tracks seems to skew towards the left while the distribtuion of danceability for Folk tracks seems to be relatively normal. The mean and median danceability for Folk seem to be less than that of Hip-Hop, this can be confirmed by the bar graph below.* "
   ]
  },
  {
   "cell_type": "markdown",
   "metadata": {},
   "source": [
    "**Aggregated Data Table:**"
   ]
  },
  {
   "cell_type": "code",
   "execution_count": 237,
   "metadata": {},
   "outputs": [
    {
     "data": {
      "text/html": [
       "<table border=\"1\" class=\"dataframe\">\n",
       "    <thead>\n",
       "        <tr>\n",
       "            <th>track_genre</th> <th>count</th> <th>danceability_avergae</th>\n",
       "        </tr>\n",
       "    </thead>\n",
       "    <tbody>\n",
       "        <tr>\n",
       "            <td>Folk       </td> <td>33   </td> <td>0.475934            </td>\n",
       "        </tr>\n",
       "        <tr>\n",
       "            <td>Hip-Hop    </td> <td>46   </td> <td>0.634572            </td>\n",
       "        </tr>\n",
       "    </tbody>\n",
       "</table>"
      ],
      "text/plain": [
       "track_genre | count | danceability_avergae\n",
       "Folk        | 33    | 0.475934\n",
       "Hip-Hop     | 46    | 0.634572"
      ]
     },
     "execution_count": 237,
     "metadata": {},
     "output_type": "execute_result"
    }
   ],
   "source": [
    "# Use this cell to generate your aggregated data table\n",
    "genre_sizes = folk_hiphop.group(\"track_genre\", np.average).column(1)\n",
    "genre_averages_and_size = folk_hiphop.group(\"track_genre\").with_columns(\"danceability_avergae\",genre_sizes)\n",
    "genre_averages_and_size"
   ]
  },
  {
   "cell_type": "markdown",
   "metadata": {},
   "source": [
    "*There are 33 Folk songs and 46 Hip-Hop songs. The sizes of each genre and the sample are not too different but it is obvious that there are more Hip-Hop songs in the sample. The table also displays the average danceability for each genre of the tracks in the sample. For example, since each track is assigned a value for danceability, the average danceability for all the tracks in the sample that were assigned the genre Hip-Hop is 0.634572. There could be a potential bias in the data where the danceability of Hip-Hop in the sample reflects the danceability of Hip-Hop as a genre in the real-life population more accuraetly than the danceability of Folk songs in the sample.*"
   ]
  },
  {
   "cell_type": "markdown",
   "metadata": {},
   "source": [
    "**Qualitative Plot:**"
   ]
  },
  {
   "cell_type": "code",
   "execution_count": 240,
   "metadata": {},
   "outputs": [
    {
     "data": {
      "text/plain": [
       "Text(0.5, 1.0, 'Average danceability for each genre')"
      ]
     },
     "execution_count": 240,
     "metadata": {},
     "output_type": "execute_result"
    },
    {
     "data": {
      "image/png": "[encoded data removed]",
      "text/plain": [
       "<Figure size 432x288 with 1 Axes>"
      ]
     },
     "metadata": {},
     "output_type": "display_data"
    }
   ],
   "source": [
    "# Use this cell to generate your qualitative plot\n",
    "genre_averages_and_size.sort(2, descending=True).barh(0, 2)\n",
    "plots.title(\"Average danceability for each genre\")"
   ]
  },
  {
   "cell_type": "markdown",
   "metadata": {},
   "source": [
    "*Our two main focus genres are Hip-Hop and Folk. As we can see from the ranked categorical distribution of average danceability per genre, the Hip-Hop tracks in the sample have a higher danceability on average than the Folk genre. The Hip-Hop danceability average is close to 0.62 while the Folk danceability average is closer to 0.47. We will now conduct a hypothesis test to see if this difference is due to randmoness in samlping or not.*"
   ]
  },
  {
   "cell_type": "markdown",
   "metadata": {},
   "source": [
    "## Hypothesis Testing\n",
    "\n",
    "**Do not copy code from demo notebooks or homeworks! You may split portions of your code into distinct cells. Also, be sure to\n",
    "set a random seed so that your results are reproducible.**"
   ]
  },
  {
   "cell_type": "markdown",
   "metadata": {},
   "source": [
    "**Hypothesis Test and Test Statistic**\n",
    "\n",
    "The test we will be performing is an A/B test. Our test statistic will be the difference between the average danceability of Hip-Hop and the average danceability of Folk. In our data exploration, we noticed there is a difference between the average danceability of Hip-Hop and the average danceability of Folk in the sample. We would like to know whether or not this difference in the sample is due to chance or if it does indeed tell us something about the difference in average danceability between these two genres in the real population. A/B testing is used to decide whether two numerical samples come from the same underlying distribution. Here we will be testing if the danceability of Hip-Hop and Folk in the sample come from the same distribution in the population. Our choice of test statistic is based on wanting to know if the difference in average danceabilities between genres is random or if it reflects the population, and therefore we want to randomly simulate this difference thousands of times.\n",
    "\n",
    "\n",
    "\n",
    "\n",
    "**Null hypothesis:** \n",
    "\n",
    "In the population, the distribution of danceability of songs is the same for Hip-Hop tracks as well as Folk tracks. The difference in the sample is due to chance.\n",
    " \n",
    "\n",
    "**Alternative hypothesis:** \n",
    "\n",
    "In the population, the average danceability of Hip-Hop tracks is higher than that of Folk tracks. \n",
    " \n",
    " \n",
    " \n",
    " \n",
    "We will use a 99% confidence interval to determine the conclusion of the hypothesis test."
   ]
  },
  {
   "cell_type": "code",
   "execution_count": 241,
   "metadata": {},
   "outputs": [
    {
     "data": {
      "text/plain": [
       "0.15863852328353106"
      ]
     },
     "execution_count": 241,
     "metadata": {},
     "output_type": "execute_result"
    }
   ],
   "source": [
    "random.seed(1231)\n",
    "# finding observed difference between average danceability for pop and average danceability for hip-hop\n",
    "folk_avg = np.mean(folk_hiphop.where(\"track_genre\", are.equal_to(\"Folk\")).column(\"danceability\"))\n",
    "hiphop_avg = np.mean(folk_hiphop.where(\"track_genre\", are.equal_to(\"Hip-Hop\")).column(\"danceability\"))\n",
    "observed_test_statistic = hiphop_avg - folk_avg \n",
    "observed_test_statistic\n"
   ]
  },
  {
   "cell_type": "code",
   "execution_count": 179,
   "metadata": {},
   "outputs": [],
   "source": [
    "random.seed(1231)\n",
    "# defining a function to find the difference between average value of a feature for two genres\n",
    "\n",
    "def average_diff(tbl, label1, label2):\n",
    "    \"\"\"takes in a table of two columns, \n",
    "    where the first column is genres and the other is a feature, \n",
    "    as well as the names of two genres,\n",
    "    and returns a single value of our test statistic\"\"\"\n",
    "    lbl_1_avg = np.mean(tbl.where(\"track_genre\", label1).column(1))\n",
    "    lbl_2_avg = np.mean(tbl.where(\"track_genre\", label2).column(1))\n",
    "    return lbl_1_avg - lbl_2_avg"
   ]
  },
  {
   "cell_type": "code",
   "execution_count": 97,
   "metadata": {},
   "outputs": [
    {
     "data": {
      "text/html": [
       "<table border=\"1\" class=\"dataframe\">\n",
       "    <thead>\n",
       "        <tr>\n",
       "            <th>track_genre</th> <th>danceability</th>\n",
       "        </tr>\n",
       "    </thead>\n",
       "    <tbody>\n",
       "        <tr>\n",
       "            <td>Folk       </td> <td>0.320081    </td>\n",
       "        </tr>\n",
       "        <tr>\n",
       "            <td>Folk       </td> <td>0.309217    </td>\n",
       "        </tr>\n",
       "        <tr>\n",
       "            <td>Hip-Hop    </td> <td>0.51089     </td>\n",
       "        </tr>\n",
       "        <tr>\n",
       "            <td>Folk       </td> <td>0.514916    </td>\n",
       "        </tr>\n",
       "        <tr>\n",
       "            <td>Folk       </td> <td>0.675885    </td>\n",
       "        </tr>\n",
       "        <tr>\n",
       "            <td>Folk       </td> <td>0.431653    </td>\n",
       "        </tr>\n",
       "        <tr>\n",
       "            <td>Folk       </td> <td>0.145067    </td>\n",
       "        </tr>\n",
       "        <tr>\n",
       "            <td>Folk       </td> <td>0.318093    </td>\n",
       "        </tr>\n",
       "        <tr>\n",
       "            <td>Folk       </td> <td>0.76214     </td>\n",
       "        </tr>\n",
       "        <tr>\n",
       "            <td>Folk       </td> <td>0.413276    </td>\n",
       "        </tr>\n",
       "    </tbody>\n",
       "</table>\n",
       "<p>... (69 rows omitted)</p>"
      ],
      "text/plain": [
       "track_genre | danceability\n",
       "Folk        | 0.320081\n",
       "Folk        | 0.309217\n",
       "Hip-Hop     | 0.51089\n",
       "Folk        | 0.514916\n",
       "Folk        | 0.675885\n",
       "Folk        | 0.431653\n",
       "Folk        | 0.145067\n",
       "Folk        | 0.318093\n",
       "Folk        | 0.76214\n",
       "Folk        | 0.413276\n",
       "... (69 rows omitted)"
      ]
     },
     "execution_count": 97,
     "metadata": {},
     "output_type": "execute_result"
    }
   ],
   "source": [
    "random.seed(1231)\n",
    "# shuffle the labels \n",
    "\n",
    "shuffled_lbls = joined.sample(with_replacement = False).column(1)\n",
    "shuffled_tbl = joined.drop(1).with_columns(\"danceability\", shuffled_lbls)\n",
    "shuffled_tbl"
   ]
  },
  {
   "cell_type": "code",
   "execution_count": 88,
   "metadata": {},
   "outputs": [
    {
     "data": {
      "text/plain": [
       "0.009631555449143514"
      ]
     },
     "execution_count": 88,
     "metadata": {},
     "output_type": "execute_result"
    }
   ],
   "source": [
    "random.seed(1231)\n",
    "# find test statistic once for shuffled table\n",
    "\n",
    "average_diff(shuffled_tbl, \"Hip-Hop\", \"Folk\")"
   ]
  },
  {
   "cell_type": "code",
   "execution_count": 99,
   "metadata": {},
   "outputs": [
    {
     "data": {
      "text/plain": [
       "0.12388162464762847"
      ]
     },
     "execution_count": 99,
     "metadata": {},
     "output_type": "execute_result"
    }
   ],
   "source": [
    "random.seed(1231)\n",
    "# define a function that shuffles a table and returns a value of our test statistic\n",
    "\n",
    "def shuffle_avg_diff(tbl):\n",
    "    shuffled_labels = tbl.sample(with_replacement = False).column(1)\n",
    "    shuffled_table = tbl.drop(1).with_columns(\"danceability\", shuffled_labels)\n",
    "    return average_diff(shuffled_table, \"Hip-Hop\", \"Folk\")\n",
    "\n",
    "shuffle_avg_diff(joined)"
   ]
  },
  {
   "cell_type": "code",
   "execution_count": 107,
   "metadata": {},
   "outputs": [],
   "source": [
    "random.seed(1231)\n",
    "# simulate the process thousands of times\n",
    "\n",
    "average_differences = make_array()\n",
    "repititions = 5000\n",
    "\n",
    "for i in np.arange(repititions):\n",
    "    average_difference = shuffle_avg_diff(joined)\n",
    "    average_differences = np.append(average_differences, average_difference)"
   ]
  },
  {
   "cell_type": "code",
   "execution_count": 242,
   "metadata": {},
   "outputs": [
    {
     "name": "stdout",
     "output_type": "stream",
     "text": [
      "[-0.11121986756554703, 0.10261980778339908]\n"
     ]
    },
    {
     "data": {
      "text/plain": [
       "Text(0.5, 1.0, 'Distribution of Differences Between Values of Average Danceability for Hip-Hop and Folk')"
      ]
     },
     "execution_count": 242,
     "metadata": {},
     "output_type": "execute_result"
    },
    {
     "data": {
      "image/png": "[encoded data removed]",
      "text/plain": [
       "<Figure size 432x288 with 1 Axes>"
      ]
     },
     "metadata": {},
     "output_type": "display_data"
    }
   ],
   "source": [
    "random.seed(1231)\n",
    "# display results visually: histogram, observed value of test statistic, and 99% confidence interval\n",
    "\n",
    "Table().with_columns(\"Average Differences\", average_differences).hist(bins=25)\n",
    "\n",
    "left_bound = percentile(0.5, average_differences)\n",
    "right_bound = percentile(99.5, average_differences)\n",
    "interval = [left_bound, right_bound]\n",
    "print([left_bound, right_bound])\n",
    "\n",
    "plots.plot(interval, [0,0], color = \"gold\")\n",
    "plots.scatter(observed_test_statistic, 0, color=\"red\")\n",
    "plots.title(\"Distribution of Differences Between Values of Average Danceability for Hip-Hop and Folk\")"
   ]
  },
  {
   "cell_type": "code",
   "execution_count": 243,
   "metadata": {},
   "outputs": [
    {
     "name": "stdout",
     "output_type": "stream",
     "text": [
      "p-value cutoff is 1%\n",
      "p-value is equal to 0.02 %\n",
      "99 % confidence interval is [-0.11121986756554703, 0.10261980778339908]\n",
      "observed value is 0.15863852328353106\n"
     ]
    }
   ],
   "source": [
    "random.seed(1231)\n",
    "# calculate p-value\n",
    "\n",
    "p_value = np.count_nonzero(observed_test_statistic < average_differences)/repititions * 100\n",
    "\n",
    "print(\"p-value cutoff is 1%\"), \n",
    "print(\"p-value is equal to\", p_value, \"%\"), \n",
    "print(\"99 % confidence interval is\", [left_bound, right_bound]), \n",
    "print(\"observed value is\", observed_test_statistic) "
   ]
  },
  {
   "cell_type": "markdown",
   "metadata": {},
   "source": [
    " *The 99% confidence interval from about -0.11 to about 0.10 does not include the observed value of our test statistic which was about 0.16. Our p-value cutoff was 1% and our p-value was 0.02 %. As a result, our hypothesis test supports the alternative hypothesis. We can conclude that the average danceability of Hip-Hop is greater than that of Folk in the population.*"
   ]
  },
  {
   "cell_type": "markdown",
   "metadata": {},
   "source": [
    "## Prediction\n",
    "\n",
    "**Be sure to set a random seed so that your results are reproducible.**"
   ]
  },
  {
   "cell_type": "markdown",
   "metadata": {},
   "source": [
    "*First we had to decide which prediction method to use. Since our question is about distinguishing categories, we decided to use for this k-nearest neighbors, as it is a better prediction method for categories, while linear regression works better for numerical prediction.* Furthermore, outliers tend to affect k-nearest neighbors less than linear regression, and based upon exploratory analysis, there were a few outliers."
   ]
  },
  {
   "cell_type": "code",
   "execution_count": 218,
   "metadata": {},
   "outputs": [],
   "source": [
    "# defining the train and test tables from a shuffeled table\n",
    "random.seed(1231)\n",
    "random_table = all_features_table.sample(all_features_table.num_rows)\n",
    "trainall = random_table.take(np.arange(50))\n",
    "testall = random_table.take(np.arange(50,79))\n",
    "train = trainall.select(\"danceability\",\"speechiness\",\"track_genre\")\n",
    "test = testall.select(\"danceability\",\"speechiness\",\"track_genre\")\n",
    "\n",
    "# isolating the columns danceability and speechiness for each table, as well as defining the train labels\n",
    "\n",
    "traind = train.select(0,1)\n",
    "testd = test.select(0,1)\n",
    "features1 = make_array(\"danceability\",\"speechiness\")\n",
    "classifiers = make_array(\"track_genre\",\"Folk\",\"Hip_Hop\")\n",
    "train_labels = train.column(\"track_genre\")"
   ]
  },
  {
   "cell_type": "code",
   "execution_count": 220,
   "metadata": {},
   "outputs": [],
   "source": [
    "random.seed(1231)\n",
    "\n",
    "# defining the distances function to get an array of the distances between a test row and each row in the training table\n",
    "\n",
    "def fast_distances(test_row, train_table):\n",
    "    \"\"\"Return an array of the distances between test_row and each row in train_rows.\n",
    "\n",
    "    Takes 2 arguments:\n",
    "      test_row: A row of a table containing features of one\n",
    "        test movie (e.g., test_my_features.row(0)).\n",
    "      train_table: A table of features (for example, the whole\n",
    "        table train_my_features).\"\"\"\n",
    "    assert train_table.num_columns < 50, \"Make sure you're not using all the features of the movies table.\"\n",
    "    counts_matrix = np.asmatrix(train_table.columns).transpose()\n",
    "    diff = np.tile(np.array(list(test_row)), [counts_matrix.shape[0], 1]) - counts_matrix\n",
    "    np.random.seed(0) # For tie breaking purposes\n",
    "    distances = np.squeeze(np.asarray(np.sqrt(np.square(diff).sum(1))))\n",
    "    eps = np.random.uniform(size=distances.shape)*1e-10 #Noise for tie break\n",
    "    distances = distances + eps\n",
    "    return distances\n",
    "\n",
    "# defining the most common function to figure out which cateogry is the most common for the nearest neighbors\n",
    "\n",
    "def most_common(name, table):\n",
    "    return table.group(name).sort(\"count\",descending=True).column(0).item(0)"
   ]
  },
  {
   "cell_type": "code",
   "execution_count": 221,
   "metadata": {},
   "outputs": [],
   "source": [
    "random.seed(1231)\n",
    "\n",
    "# defining the classify function which takes a test row, and a train table, and gets the distances for the nearest k neighbors,\n",
    "# then figures out the most common genre\n",
    "\n",
    "\n",
    "def classify(test_row, train_rows, train_labels, k):\n",
    "    distances = fast_distances(test_row, train_rows)\n",
    "    track_genre_and_distances = Table().with_columns(\"Genre\",train_labels,\"Distance\",distances).sort(\"Distance\")\n",
    "    return most_common(\"Genre\",track_genre_and_distances.take(np.arange(k)))"
   ]
  },
  {
   "cell_type": "code",
   "execution_count": 222,
   "metadata": {},
   "outputs": [],
   "source": [
    "random.seed(1231)\n",
    "\n",
    "# defining classify for an entire test table instead of just one row\n",
    "\n",
    "def classify_all_rows(teste,k):\n",
    "    common = make_array()\n",
    "    for i in np.arange(teste.num_rows):\n",
    "        common = np.append(common,classify(teste.row(i),traind,train_labels,k))\n",
    "    return common\n",
    "\n",
    "# defining classify for an entire test table which returns an array of the proportion correct of guesses for each row\n",
    "\n",
    "def classify_all_rows_proportion_correct(teste,k):\n",
    "    guesses = classify_all_rows(teste,k)\n",
    "    correct = make_array()\n",
    "    for i in np.arange(len(teste.column(0))):\n",
    "        if guesses.item(i) == test.column(\"track_genre\").item(i):\n",
    "            correct = np.append(correct,True)\n",
    "        else:\n",
    "            correct = np.append(correct,False)\n",
    "    proportion_correct = np.count_nonzero(correct)/len(correct)\n",
    "    return proportion_correct\n",
    "\n",
    "# defining a classify function which allows the features being used to be set in the function, instead of preset in the table\n",
    "\n",
    "def classify_all_rows_proportion_correct_changing_features(features,k):\n",
    "    common = make_array()\n",
    "    for i in np.arange(testall.num_rows):\n",
    "        common = np.append(common,classify(testall.select(features).row(i),trainall.select(features),train_labels,k))\n",
    "    correct = make_array()\n",
    "    for i in np.arange(len(testall.column(0))):\n",
    "        if common.item(i) == test.column(\"track_genre\").item(i):\n",
    "            correct = np.append(correct,True)\n",
    "        else:\n",
    "            correct = np.append(correct,False)\n",
    "    proportion_correct = np.count_nonzero(correct)/len(correct)\n",
    "    return proportion_correct\n",
    "    "
   ]
  },
  {
   "cell_type": "code",
   "execution_count": 223,
   "metadata": {},
   "outputs": [
    {
     "data": {
      "text/html": [
       "<table border=\"1\" class=\"dataframe\">\n",
       "    <thead>\n",
       "        <tr>\n",
       "            <th>Pair</th> <th>Prop Correct</th>\n",
       "        </tr>\n",
       "    </thead>\n",
       "    <tbody>\n",
       "        <tr>\n",
       "            <td>['acousticness' 'liveness']    </td> <td>0.931034    </td>\n",
       "        </tr>\n",
       "        <tr>\n",
       "            <td>['acousticness' 'valence']     </td> <td>0.896552    </td>\n",
       "        </tr>\n",
       "        <tr>\n",
       "            <td>['acousticness' 'energy']      </td> <td>0.896552    </td>\n",
       "        </tr>\n",
       "        <tr>\n",
       "            <td>['acousticness' 'danceability']</td> <td>0.896552    </td>\n",
       "        </tr>\n",
       "        <tr>\n",
       "            <td>['liveness' 'valence']         </td> <td>0.862069    </td>\n",
       "        </tr>\n",
       "        <tr>\n",
       "            <td>['energy' 'speechiness']       </td> <td>0.862069    </td>\n",
       "        </tr>\n",
       "        <tr>\n",
       "            <td>['danceability' 'speechiness'] </td> <td>0.862069    </td>\n",
       "        </tr>\n",
       "        <tr>\n",
       "            <td>['danceability' 'liveness']    </td> <td>0.862069    </td>\n",
       "        </tr>\n",
       "        <tr>\n",
       "            <td>['acousticness' 'speechiness'] </td> <td>0.862069    </td>\n",
       "        </tr>\n",
       "        <tr>\n",
       "            <td>['speechiness' 'valence']      </td> <td>0.827586    </td>\n",
       "        </tr>\n",
       "    </tbody>\n",
       "</table>\n",
       "<p>... (28 rows omitted)</p>"
      ],
      "text/plain": [
       "<IPython.core.display.HTML object>"
      ]
     },
     "metadata": {},
     "output_type": "display_data"
    }
   ],
   "source": [
    "random.seed(1231)\n",
    "\n",
    "# defining all possible pairs of features in order to create a table of the proportion correct using classi\n",
    "\n",
    "feature_pairs = make_array(make_array(\"acousticness\",\"danceability\"),make_array(\"acousticness\",\"energy\"),make_array(\"acousticness\",\"instrumentalness\"),make_array(\"acousticness\",\"liveness\"),make_array(\"acousticness\",\"speechiness\"),make_array(\"acousticness\",\"tempo\"),make_array(\"acousticness\",\"valence\"),make_array(\"acousticness\",\"track_duration\"),\n",
    "                           make_array(\"danceability\",\"energy\"),make_array(\"danceability\",\"instrumentalness\"),make_array(\"danceability\",\"liveness\"),make_array(\"danceability\",\"speechiness\"),make_array(\"danceability\",\"tempo\"),make_array(\"danceability\",\"valence\"),make_array(\"danceability\",\"track_duration\"),\n",
    "                           make_array(\"energy\",\"instrumentalness\"),make_array(\"energy\",\"liveness\"),make_array(\"energy\",\"speechiness\"),make_array(\"energy\",\"tempo\"),make_array(\"energy\",\"valence\"),make_array(\"energy\",\"track_duration\"),\n",
    "                           make_array(\"instrumentalness\",\"liveness\"),make_array(\"instrumentalness\",\"speechiness\"),make_array(\"instrumentalness\",\"tempo\"),make_array(\"instrumentalness\",\"valence\"),make_array(\"instrumentalness\",),make_array(\"instrumentalness\",\"track_duration\"),\n",
    "                           make_array(\"liveness\",\"speechiness\"),make_array(\"liveness\",\"tempo\"),make_array(\"liveness\",\"valence\"),make_array(\"liveness\",),make_array(\"liveness\",\"track_duration\"),\n",
    "                           make_array(\"speechiness\",\"tempo\"),make_array(\"speechiness\",\"valence\"),make_array(\"speechiness\",\"track_duration\"),\n",
    "                           make_array(\"tempo\",\"valence\"),make_array(\"tempo\",\"track_duration\"),\n",
    "                           make_array(\"valence\",\"track_duration\"))\n",
    "\n",
    "# creating a table of each pair of features and their proportion correct for guesses for an 8-nearest neighbors test\n",
    "\n",
    "feature_pairs_1_to_34= make_array()\n",
    "for pair in feature_pairs:\n",
    "    feature_pairs_1_to_34 = np.append(feature_pairs_1_to_34,classify_all_rows_proportion_correct_changing_features(pair,8))\n",
    "pairs_and_correct_for_k_8 = Table().with_columns(\"Pair\",feature_pairs,\"Prop Correct\",feature_pairs_1_to_34).sort(\"Prop Correct\",descending = True)\n",
    "pairs_and_correct_for_k_8.show(10)"
   ]
  },
  {
   "cell_type": "markdown",
   "metadata": {},
   "source": [
    "*Looking at the table above we can see which pair of variables generates the most accurate guesses using a randomly chosen k of 8. However, this trend should hold for any given k in general, allowing us to take a look at which features most decide how Folk and Hip-Hop are distinguishable.* "
   ]
  },
  {
   "cell_type": "code",
   "execution_count": 232,
   "metadata": {},
   "outputs": [
    {
     "data": {
      "text/plain": [
       "Text(0.5, 1.0, 'Proportion Correct for Each k Using Acousticness and Liveness as Features to Guess')"
      ]
     },
     "execution_count": 232,
     "metadata": {},
     "output_type": "execute_result"
    },
    {
     "data": {
      "image/png": "[encoded data removed]",
      "text/plain": [
       "<Figure size 360x360 with 1 Axes>"
      ]
     },
     "metadata": {},
     "output_type": "display_data"
    }
   ],
   "source": [
    "random.seed(1231)\n",
    "\n",
    "#defining a function which takes in features and returns a scatter plot of proportion correct guesses for each k from 1 to 20\n",
    "\n",
    "def features_to_scatter(features):\n",
    "    k_1_to_40s = make_array()\n",
    "    for i in np.arange(1,40):\n",
    "        k_1_to_40s = np.append(k_1_to_40s,classify_all_rows_proportion_correct_changing_features(features,i))\n",
    "    k_correct = Table().with_columns(\"Number of Neighbors\",np.arange(1,40),\"Proportion Correct\",k_1_to_40s)\n",
    "    graph = k_correct.scatter(\"Number of Neighbors\")\n",
    "    plots.title(str(features))\n",
    "    return graph\n",
    "\n",
    "features_to_scatter(make_array(\"acousticness\",\"liveness\"))\n",
    "plots.title(\"Proportion Correct for Each k Using Acousticness and Liveness as Features to Guess\")\n",
    "\n",
    "\n"
   ]
  },
  {
   "cell_type": "markdown",
   "metadata": {},
   "source": [
    "*Having seen that the pair of features acousticness and liveness gives the most accurate guesses for k = 8, we can see from the graph above how the proportion correct changes for differing k's. The reason we did not show k above 40 because from 38 onward the prediction accuracy decreases drastically as Hip-Hop starts to overcrowd Folk, as there are more Hip-Hop songs in the sample. Having seen the pairs of features and their success rates, this made us curious about which individual feature would be best at distinguishing between Folk and Hip-Hop.* "
   ]
  },
  {
   "cell_type": "code",
   "execution_count": 225,
   "metadata": {},
   "outputs": [
    {
     "data": {
      "application/vnd.jupyter.widget-view+json": {
       "model_id": "39e23eb28ec94a9989578b5ce60f199c",
       "version_major": 2,
       "version_minor": 0
      },
      "text/plain": [
       "interactive(children=(Dropdown(description='Feature:', options=('acousticness', 'danceability', 'energy', 'ins…"
      ]
     },
     "metadata": {},
     "output_type": "display_data"
    }
   ],
   "source": [
    "random.seed(1231)\n",
    "\n",
    "#using ipywidgets to create a dropdown menu where you can choose the variable to create a scatter plot of the proportion correct guesses for k 1 to 20\n",
    "\n",
    "\n",
    "import ipywidgets as widgets\n",
    "\n",
    "_ = widgets.interact(features_to_scatter, features=widgets.Dropdown(options=all_features_table.drop(\"track_genre\").labels,description='Feature:',disabled=False,))\n",
    "                    "
   ]
  },
  {
   "cell_type": "markdown",
   "metadata": {},
   "source": [
    "*The graph above allows us to see the proportion correct vs number of neighbors for each individual feature. Using this we could determine the feature which has the single highest success rate in prediction.*"
   ]
  },
  {
   "cell_type": "markdown",
   "metadata": {},
   "source": [
    "Overall, it appears that genre can be predicted, or more specifically Folk can be distinguished from Hip-Hop using the features given in the dataset. More features give more accurate predictions, which is to be expected. However, it is not always true that having more neighbors gives a more accurate prediction, as data starts to get crowded and messy."
   ]
  },
  {
   "cell_type": "markdown",
   "metadata": {},
   "source": [
    "## Conclusion\n",
    "\n",
    "*In conclusion, in this research report we attempted to clarify whether genre is an easily distinguishable human construct, and explored the possible ways genre can be classified and therefore predicted. We used an A/B testing procedure to reveal that there is a level of correlation between a song's danceability, and whether it is classified as Folk or Hip-Hop. We came to the conclusion that on average, since Hip-Hop songs tend to have higher dancibility, there was a definite difference between the two genres, as displayed by our p-value of 0.02 % which justified that there was a difference that was not due to chance. Furthermore, we were pleased with the success rate of our prediction algorithm, as no matter the random sample, our success rate was always greater than 60%.* \n",
    "\n",
    "*Although the dataset we were given was clean, we realised during our exploratory data analysis that the number of songs from each genre was not even near to equal. This could create problems if we wanted to compare genres such as Pop and Rock, as Pop only has 13 songs while Rock has 215, which would be very biased if we tried to use k-nearest neighbors for any prediction, as Rock would crowd out Pop completely. To counter this in sampling, it would be better to take a larger random sample to get a wider distribution.*\n",
    "\n"
   ]
  },
  {
   "cell_type": "markdown",
   "metadata": {},
   "source": [
    "## Presentation\n",
    "\n",
    "*In this section, you'll need to provide a link to your video presentation. If you've uploaded your presentation to YouTube,\n",
    "you can include the URL in the code below. We've provided an example to show you how to do this. Otherwise, provide the link\n",
    "in a markdown cell.*"
   ]
  },
  {
   "cell_type": "code",
   "execution_count": 4,
   "metadata": {},
   "outputs": [
    {
     "data": {
      "image/jpeg": "[encoded data removed]",
      "text/html": [
       "\n",
       "        <iframe\n",
       "            width=\"400\"\n",
       "            height=\"300\"\n",
       "            src=\"https://www.youtube.com/embed/5R1GZAorr3E\"\n",
       "            frameborder=\"0\"\n",
       "            allowfullscreen\n",
       "        ></iframe>\n",
       "        "
      ],
      "text/plain": [
       "<IPython.lib.display.YouTubeVideo at 0x7f0525854cd0>"
      ]
     },
     "execution_count": 4,
     "metadata": {},
     "output_type": "execute_result"
    }
   ],
   "source": [
    "# Full Link: https://www.youtube.com/watch?v=BKgdDLrSC5s&feature=emb_logo\n",
    "# Plug in string between \"v=\" and \"\"&feature\":\n",
    "YouTubeVideo('5R1GZAorr3E')"
   ]
  },
  {
   "cell_type": "code",
   "execution_count": null,
   "metadata": {},
   "outputs": [],
   "source": []
  }
 ],
 "metadata": {
  "kernelspec": {
   "display_name": "Python 3",
   "language": "python",
   "name": "python3"
  },
  "language_info": {
   "codemirror_mode": {
    "name": "ipython",
    "version": 3
   },
   "file_extension": ".py",
   "mimetype": "text/x-python",
   "name": "python",
   "nbconvert_exporter": "python",
   "pygments_lexer": "ipython3",
   "version": "3.8.6"
  }
 },
 "nbformat": 4,
 "nbformat_minor": 4
}
